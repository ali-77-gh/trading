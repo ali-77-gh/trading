{
 "cells": [
  {
   "cell_type": "code",
   "execution_count": 25,
   "metadata": {},
   "outputs": [],
   "source": [
    "import pandas as pd\n",
    "import numpy as np\n",
    "import MetaTrader5 as mt5 \n",
    "import datetime\n",
    "from keras.models import Sequential\n",
    "from keras.layers import Dense, LSTM\n",
    "import matplotlib.pyplot as plt\n",
    "from sklearn.metrics import*\n",
    "from sklearn.model_selection import train_test_split\n",
    "from sklearn.preprocessing import MinMaxScaler\n"
   ]
  },
  {
   "cell_type": "code",
   "execution_count": 26,
   "metadata": {},
   "outputs": [
    {
     "data": {
      "text/plain": [
       "True"
      ]
     },
     "execution_count": 26,
     "metadata": {},
     "output_type": "execute_result"
    }
   ],
   "source": [
    "mt5.initialize()"
   ]
  },
  {
   "cell_type": "code",
   "execution_count": 27,
   "metadata": {},
   "outputs": [
    {
     "data": {
      "text/html": [
       "<div>\n",
       "<style scoped>\n",
       "    .dataframe tbody tr th:only-of-type {\n",
       "        vertical-align: middle;\n",
       "    }\n",
       "\n",
       "    .dataframe tbody tr th {\n",
       "        vertical-align: top;\n",
       "    }\n",
       "\n",
       "    .dataframe thead th {\n",
       "        text-align: right;\n",
       "    }\n",
       "</style>\n",
       "<table border=\"1\" class=\"dataframe\">\n",
       "  <thead>\n",
       "    <tr style=\"text-align: right;\">\n",
       "      <th></th>\n",
       "      <th>time</th>\n",
       "      <th>open</th>\n",
       "      <th>high</th>\n",
       "      <th>low</th>\n",
       "      <th>close</th>\n",
       "      <th>tick_volume</th>\n",
       "      <th>spread</th>\n",
       "      <th>real_volume</th>\n",
       "    </tr>\n",
       "  </thead>\n",
       "  <tbody>\n",
       "    <tr>\n",
       "      <th>0</th>\n",
       "      <td>2024-06-06 13:00:00</td>\n",
       "      <td>2361.63</td>\n",
       "      <td>2361.95</td>\n",
       "      <td>2359.49</td>\n",
       "      <td>2361.09</td>\n",
       "      <td>2666</td>\n",
       "      <td>5</td>\n",
       "      <td>0</td>\n",
       "    </tr>\n",
       "    <tr>\n",
       "      <th>1</th>\n",
       "      <td>2024-06-06 14:00:00</td>\n",
       "      <td>2361.09</td>\n",
       "      <td>2362.02</td>\n",
       "      <td>2359.23</td>\n",
       "      <td>2359.84</td>\n",
       "      <td>2977</td>\n",
       "      <td>5</td>\n",
       "      <td>0</td>\n",
       "    </tr>\n",
       "    <tr>\n",
       "      <th>2</th>\n",
       "      <td>2024-06-06 15:00:00</td>\n",
       "      <td>2359.85</td>\n",
       "      <td>2365.06</td>\n",
       "      <td>2355.32</td>\n",
       "      <td>2357.59</td>\n",
       "      <td>5171</td>\n",
       "      <td>5</td>\n",
       "      <td>0</td>\n",
       "    </tr>\n",
       "    <tr>\n",
       "      <th>3</th>\n",
       "      <td>2024-06-06 16:00:00</td>\n",
       "      <td>2357.61</td>\n",
       "      <td>2366.89</td>\n",
       "      <td>2353.44</td>\n",
       "      <td>2360.56</td>\n",
       "      <td>6010</td>\n",
       "      <td>5</td>\n",
       "      <td>0</td>\n",
       "    </tr>\n",
       "    <tr>\n",
       "      <th>4</th>\n",
       "      <td>2024-06-06 17:00:00</td>\n",
       "      <td>2360.59</td>\n",
       "      <td>2366.34</td>\n",
       "      <td>2358.60</td>\n",
       "      <td>2364.30</td>\n",
       "      <td>5317</td>\n",
       "      <td>5</td>\n",
       "      <td>0</td>\n",
       "    </tr>\n",
       "    <tr>\n",
       "      <th>...</th>\n",
       "      <td>...</td>\n",
       "      <td>...</td>\n",
       "      <td>...</td>\n",
       "      <td>...</td>\n",
       "      <td>...</td>\n",
       "      <td>...</td>\n",
       "      <td>...</td>\n",
       "      <td>...</td>\n",
       "    </tr>\n",
       "    <tr>\n",
       "      <th>1995</th>\n",
       "      <td>2024-10-07 13:00:00</td>\n",
       "      <td>2656.52</td>\n",
       "      <td>2658.47</td>\n",
       "      <td>2655.20</td>\n",
       "      <td>2655.39</td>\n",
       "      <td>3919</td>\n",
       "      <td>5</td>\n",
       "      <td>0</td>\n",
       "    </tr>\n",
       "    <tr>\n",
       "      <th>1996</th>\n",
       "      <td>2024-10-07 14:00:00</td>\n",
       "      <td>2655.33</td>\n",
       "      <td>2659.61</td>\n",
       "      <td>2655.10</td>\n",
       "      <td>2656.79</td>\n",
       "      <td>4046</td>\n",
       "      <td>6</td>\n",
       "      <td>0</td>\n",
       "    </tr>\n",
       "    <tr>\n",
       "      <th>1997</th>\n",
       "      <td>2024-10-07 15:00:00</td>\n",
       "      <td>2656.97</td>\n",
       "      <td>2659.16</td>\n",
       "      <td>2637.74</td>\n",
       "      <td>2640.09</td>\n",
       "      <td>5545</td>\n",
       "      <td>8</td>\n",
       "      <td>0</td>\n",
       "    </tr>\n",
       "    <tr>\n",
       "      <th>1998</th>\n",
       "      <td>2024-10-07 16:00:00</td>\n",
       "      <td>2639.86</td>\n",
       "      <td>2653.71</td>\n",
       "      <td>2639.70</td>\n",
       "      <td>2642.70</td>\n",
       "      <td>6154</td>\n",
       "      <td>5</td>\n",
       "      <td>0</td>\n",
       "    </tr>\n",
       "    <tr>\n",
       "      <th>1999</th>\n",
       "      <td>2024-10-07 17:00:00</td>\n",
       "      <td>2642.76</td>\n",
       "      <td>2643.53</td>\n",
       "      <td>2642.76</td>\n",
       "      <td>2643.12</td>\n",
       "      <td>20</td>\n",
       "      <td>14</td>\n",
       "      <td>0</td>\n",
       "    </tr>\n",
       "  </tbody>\n",
       "</table>\n",
       "<p>2000 rows × 8 columns</p>\n",
       "</div>"
      ],
      "text/plain": [
       "                    time     open     high      low    close  tick_volume  \\\n",
       "0    2024-06-06 13:00:00  2361.63  2361.95  2359.49  2361.09         2666   \n",
       "1    2024-06-06 14:00:00  2361.09  2362.02  2359.23  2359.84         2977   \n",
       "2    2024-06-06 15:00:00  2359.85  2365.06  2355.32  2357.59         5171   \n",
       "3    2024-06-06 16:00:00  2357.61  2366.89  2353.44  2360.56         6010   \n",
       "4    2024-06-06 17:00:00  2360.59  2366.34  2358.60  2364.30         5317   \n",
       "...                  ...      ...      ...      ...      ...          ...   \n",
       "1995 2024-10-07 13:00:00  2656.52  2658.47  2655.20  2655.39         3919   \n",
       "1996 2024-10-07 14:00:00  2655.33  2659.61  2655.10  2656.79         4046   \n",
       "1997 2024-10-07 15:00:00  2656.97  2659.16  2637.74  2640.09         5545   \n",
       "1998 2024-10-07 16:00:00  2639.86  2653.71  2639.70  2642.70         6154   \n",
       "1999 2024-10-07 17:00:00  2642.76  2643.53  2642.76  2643.12           20   \n",
       "\n",
       "      spread  real_volume  \n",
       "0          5            0  \n",
       "1          5            0  \n",
       "2          5            0  \n",
       "3          5            0  \n",
       "4          5            0  \n",
       "...      ...          ...  \n",
       "1995       5            0  \n",
       "1996       6            0  \n",
       "1997       8            0  \n",
       "1998       5            0  \n",
       "1999      14            0  \n",
       "\n",
       "[2000 rows x 8 columns]"
      ]
     },
     "execution_count": 27,
     "metadata": {},
     "output_type": "execute_result"
    }
   ],
   "source": [
    "symbols ='XAUUSD'\n",
    "timeframe=mt5.TIMEFRAME_H1\n",
    "start = 0\n",
    "finish = 2000\n",
    "\n",
    "data = mt5.copy_rates_from_pos(symbols , timeframe , start , finish)\n",
    "data = pd.DataFrame(data)\n",
    "data['time'] = pd.to_datetime(data['time'] , unit='s')\n",
    "data"
   ]
  },
  {
   "cell_type": "code",
   "execution_count": 28,
   "metadata": {},
   "outputs": [
    {
     "data": {
      "text/plain": [
       "(2000, 8)"
      ]
     },
     "execution_count": 28,
     "metadata": {},
     "output_type": "execute_result"
    }
   ],
   "source": [
    "data.shape"
   ]
  },
  {
   "cell_type": "code",
   "execution_count": 29,
   "metadata": {},
   "outputs": [
    {
     "data": {
      "text/html": [
       "<div>\n",
       "<style scoped>\n",
       "    .dataframe tbody tr th:only-of-type {\n",
       "        vertical-align: middle;\n",
       "    }\n",
       "\n",
       "    .dataframe tbody tr th {\n",
       "        vertical-align: top;\n",
       "    }\n",
       "\n",
       "    .dataframe thead th {\n",
       "        text-align: right;\n",
       "    }\n",
       "</style>\n",
       "<table border=\"1\" class=\"dataframe\">\n",
       "  <thead>\n",
       "    <tr style=\"text-align: right;\">\n",
       "      <th></th>\n",
       "      <th>time</th>\n",
       "      <th>open</th>\n",
       "      <th>high</th>\n",
       "      <th>low</th>\n",
       "      <th>close</th>\n",
       "      <th>tick_volume</th>\n",
       "      <th>spread</th>\n",
       "      <th>real_volume</th>\n",
       "    </tr>\n",
       "  </thead>\n",
       "  <tbody>\n",
       "    <tr>\n",
       "      <th>count</th>\n",
       "      <td>2000</td>\n",
       "      <td>2000.000000</td>\n",
       "      <td>2000.000000</td>\n",
       "      <td>2000.000000</td>\n",
       "      <td>2000.000000</td>\n",
       "      <td>2000.000000</td>\n",
       "      <td>2000.000000</td>\n",
       "      <td>2000.0</td>\n",
       "    </tr>\n",
       "    <tr>\n",
       "      <th>mean</th>\n",
       "      <td>2024-08-07 00:46:04.800000</td>\n",
       "      <td>2455.352515</td>\n",
       "      <td>2458.415445</td>\n",
       "      <td>2452.267730</td>\n",
       "      <td>2455.497870</td>\n",
       "      <td>6531.362000</td>\n",
       "      <td>15.680500</td>\n",
       "      <td>0.0</td>\n",
       "    </tr>\n",
       "    <tr>\n",
       "      <th>min</th>\n",
       "      <td>2024-06-06 13:00:00</td>\n",
       "      <td>2288.350000</td>\n",
       "      <td>2294.260000</td>\n",
       "      <td>2286.710000</td>\n",
       "      <td>2288.300000</td>\n",
       "      <td>20.000000</td>\n",
       "      <td>5.000000</td>\n",
       "      <td>0.0</td>\n",
       "    </tr>\n",
       "    <tr>\n",
       "      <th>25%</th>\n",
       "      <td>2024-07-08 10:45:00</td>\n",
       "      <td>2365.200000</td>\n",
       "      <td>2368.360000</td>\n",
       "      <td>2362.835000</td>\n",
       "      <td>2365.297500</td>\n",
       "      <td>3450.250000</td>\n",
       "      <td>5.000000</td>\n",
       "      <td>0.0</td>\n",
       "    </tr>\n",
       "    <tr>\n",
       "      <th>50%</th>\n",
       "      <td>2024-08-07 04:30:00</td>\n",
       "      <td>2444.365000</td>\n",
       "      <td>2447.970000</td>\n",
       "      <td>2441.050000</td>\n",
       "      <td>2444.345000</td>\n",
       "      <td>5690.000000</td>\n",
       "      <td>5.000000</td>\n",
       "      <td>0.0</td>\n",
       "    </tr>\n",
       "    <tr>\n",
       "      <th>75%</th>\n",
       "      <td>2024-09-05 23:30:00</td>\n",
       "      <td>2515.732500</td>\n",
       "      <td>2518.022500</td>\n",
       "      <td>2513.052500</td>\n",
       "      <td>2515.780000</td>\n",
       "      <td>8667.750000</td>\n",
       "      <td>33.000000</td>\n",
       "      <td>0.0</td>\n",
       "    </tr>\n",
       "    <tr>\n",
       "      <th>max</th>\n",
       "      <td>2024-10-07 17:00:00</td>\n",
       "      <td>2682.680000</td>\n",
       "      <td>2685.440000</td>\n",
       "      <td>2672.160000</td>\n",
       "      <td>2682.670000</td>\n",
       "      <td>21276.000000</td>\n",
       "      <td>33.000000</td>\n",
       "      <td>0.0</td>\n",
       "    </tr>\n",
       "    <tr>\n",
       "      <th>std</th>\n",
       "      <td>NaN</td>\n",
       "      <td>106.538993</td>\n",
       "      <td>106.664197</td>\n",
       "      <td>106.469944</td>\n",
       "      <td>106.608537</td>\n",
       "      <td>3971.235332</td>\n",
       "      <td>13.343442</td>\n",
       "      <td>0.0</td>\n",
       "    </tr>\n",
       "  </tbody>\n",
       "</table>\n",
       "</div>"
      ],
      "text/plain": [
       "                             time         open         high          low  \\\n",
       "count                        2000  2000.000000  2000.000000  2000.000000   \n",
       "mean   2024-08-07 00:46:04.800000  2455.352515  2458.415445  2452.267730   \n",
       "min           2024-06-06 13:00:00  2288.350000  2294.260000  2286.710000   \n",
       "25%           2024-07-08 10:45:00  2365.200000  2368.360000  2362.835000   \n",
       "50%           2024-08-07 04:30:00  2444.365000  2447.970000  2441.050000   \n",
       "75%           2024-09-05 23:30:00  2515.732500  2518.022500  2513.052500   \n",
       "max           2024-10-07 17:00:00  2682.680000  2685.440000  2672.160000   \n",
       "std                           NaN   106.538993   106.664197   106.469944   \n",
       "\n",
       "             close   tick_volume       spread  real_volume  \n",
       "count  2000.000000   2000.000000  2000.000000       2000.0  \n",
       "mean   2455.497870   6531.362000    15.680500          0.0  \n",
       "min    2288.300000     20.000000     5.000000          0.0  \n",
       "25%    2365.297500   3450.250000     5.000000          0.0  \n",
       "50%    2444.345000   5690.000000     5.000000          0.0  \n",
       "75%    2515.780000   8667.750000    33.000000          0.0  \n",
       "max    2682.670000  21276.000000    33.000000          0.0  \n",
       "std     106.608537   3971.235332    13.343442          0.0  "
      ]
     },
     "execution_count": 29,
     "metadata": {},
     "output_type": "execute_result"
    }
   ],
   "source": [
    "data.describe()"
   ]
  },
  {
   "cell_type": "code",
   "execution_count": 30,
   "metadata": {},
   "outputs": [
    {
     "name": "stdout",
     "output_type": "stream",
     "text": [
      "<class 'pandas.core.frame.DataFrame'>\n",
      "RangeIndex: 2000 entries, 0 to 1999\n",
      "Data columns (total 8 columns):\n",
      " #   Column       Non-Null Count  Dtype         \n",
      "---  ------       --------------  -----         \n",
      " 0   time         2000 non-null   datetime64[ns]\n",
      " 1   open         2000 non-null   float64       \n",
      " 2   high         2000 non-null   float64       \n",
      " 3   low          2000 non-null   float64       \n",
      " 4   close        2000 non-null   float64       \n",
      " 5   tick_volume  2000 non-null   uint64        \n",
      " 6   spread       2000 non-null   int32         \n",
      " 7   real_volume  2000 non-null   uint64        \n",
      "dtypes: datetime64[ns](1), float64(4), int32(1), uint64(2)\n",
      "memory usage: 117.3 KB\n"
     ]
    }
   ],
   "source": [
    "data.info()"
   ]
  },
  {
   "cell_type": "code",
   "execution_count": 31,
   "metadata": {},
   "outputs": [
    {
     "data": {
      "text/plain": [
       "time           0\n",
       "open           0\n",
       "high           0\n",
       "low            0\n",
       "close          0\n",
       "tick_volume    0\n",
       "spread         0\n",
       "real_volume    0\n",
       "dtype: int64"
      ]
     },
     "execution_count": 31,
     "metadata": {},
     "output_type": "execute_result"
    }
   ],
   "source": [
    "data.isnull().sum()"
   ]
  },
  {
   "cell_type": "code",
   "execution_count": 32,
   "metadata": {},
   "outputs": [
    {
     "data": {
      "text/html": [
       "<div>\n",
       "<style scoped>\n",
       "    .dataframe tbody tr th:only-of-type {\n",
       "        vertical-align: middle;\n",
       "    }\n",
       "\n",
       "    .dataframe tbody tr th {\n",
       "        vertical-align: top;\n",
       "    }\n",
       "\n",
       "    .dataframe thead th {\n",
       "        text-align: right;\n",
       "    }\n",
       "</style>\n",
       "<table border=\"1\" class=\"dataframe\">\n",
       "  <thead>\n",
       "    <tr style=\"text-align: right;\">\n",
       "      <th></th>\n",
       "      <th>open</th>\n",
       "      <th>high</th>\n",
       "      <th>low</th>\n",
       "      <th>close</th>\n",
       "    </tr>\n",
       "  </thead>\n",
       "  <tbody>\n",
       "    <tr>\n",
       "      <th>0</th>\n",
       "      <td>2361.63</td>\n",
       "      <td>2361.95</td>\n",
       "      <td>2359.49</td>\n",
       "      <td>2361.09</td>\n",
       "    </tr>\n",
       "    <tr>\n",
       "      <th>1</th>\n",
       "      <td>2361.09</td>\n",
       "      <td>2362.02</td>\n",
       "      <td>2359.23</td>\n",
       "      <td>2359.84</td>\n",
       "    </tr>\n",
       "    <tr>\n",
       "      <th>2</th>\n",
       "      <td>2359.85</td>\n",
       "      <td>2365.06</td>\n",
       "      <td>2355.32</td>\n",
       "      <td>2357.59</td>\n",
       "    </tr>\n",
       "    <tr>\n",
       "      <th>3</th>\n",
       "      <td>2357.61</td>\n",
       "      <td>2366.89</td>\n",
       "      <td>2353.44</td>\n",
       "      <td>2360.56</td>\n",
       "    </tr>\n",
       "    <tr>\n",
       "      <th>4</th>\n",
       "      <td>2360.59</td>\n",
       "      <td>2366.34</td>\n",
       "      <td>2358.60</td>\n",
       "      <td>2364.30</td>\n",
       "    </tr>\n",
       "    <tr>\n",
       "      <th>...</th>\n",
       "      <td>...</td>\n",
       "      <td>...</td>\n",
       "      <td>...</td>\n",
       "      <td>...</td>\n",
       "    </tr>\n",
       "    <tr>\n",
       "      <th>1995</th>\n",
       "      <td>2656.52</td>\n",
       "      <td>2658.47</td>\n",
       "      <td>2655.20</td>\n",
       "      <td>2655.39</td>\n",
       "    </tr>\n",
       "    <tr>\n",
       "      <th>1996</th>\n",
       "      <td>2655.33</td>\n",
       "      <td>2659.61</td>\n",
       "      <td>2655.10</td>\n",
       "      <td>2656.79</td>\n",
       "    </tr>\n",
       "    <tr>\n",
       "      <th>1997</th>\n",
       "      <td>2656.97</td>\n",
       "      <td>2659.16</td>\n",
       "      <td>2637.74</td>\n",
       "      <td>2640.09</td>\n",
       "    </tr>\n",
       "    <tr>\n",
       "      <th>1998</th>\n",
       "      <td>2639.86</td>\n",
       "      <td>2653.71</td>\n",
       "      <td>2639.70</td>\n",
       "      <td>2642.70</td>\n",
       "    </tr>\n",
       "    <tr>\n",
       "      <th>1999</th>\n",
       "      <td>2642.76</td>\n",
       "      <td>2643.53</td>\n",
       "      <td>2642.76</td>\n",
       "      <td>2643.12</td>\n",
       "    </tr>\n",
       "  </tbody>\n",
       "</table>\n",
       "<p>2000 rows × 4 columns</p>\n",
       "</div>"
      ],
      "text/plain": [
       "         open     high      low    close\n",
       "0     2361.63  2361.95  2359.49  2361.09\n",
       "1     2361.09  2362.02  2359.23  2359.84\n",
       "2     2359.85  2365.06  2355.32  2357.59\n",
       "3     2357.61  2366.89  2353.44  2360.56\n",
       "4     2360.59  2366.34  2358.60  2364.30\n",
       "...       ...      ...      ...      ...\n",
       "1995  2656.52  2658.47  2655.20  2655.39\n",
       "1996  2655.33  2659.61  2655.10  2656.79\n",
       "1997  2656.97  2659.16  2637.74  2640.09\n",
       "1998  2639.86  2653.71  2639.70  2642.70\n",
       "1999  2642.76  2643.53  2642.76  2643.12\n",
       "\n",
       "[2000 rows x 4 columns]"
      ]
     },
     "execution_count": 32,
     "metadata": {},
     "output_type": "execute_result"
    }
   ],
   "source": [
    "data = data[['open', 'high', 'low', 'close']]\n",
    "data"
   ]
  },
  {
   "cell_type": "code",
   "execution_count": 33,
   "metadata": {},
   "outputs": [],
   "source": [
    "\n",
    "scaler = MinMaxScaler(feature_range=(0,1))\n",
    "scaled_data = scaler.fit_transform(data)"
   ]
  },
  {
   "cell_type": "code",
   "execution_count": 34,
   "metadata": {},
   "outputs": [],
   "source": [
    "\n",
    "\n",
    "train_data , test_data = train_test_split(scaled_data , test_size=0.4 , shuffle=False)\n"
   ]
  },
  {
   "cell_type": "code",
   "execution_count": 35,
   "metadata": {},
   "outputs": [],
   "source": [
    "def create_dataset(dataset , lookback=1):\n",
    "    dataX , dataY =[], []\n",
    "    for i in range(len(dataset)-lookback-1):\n",
    "        a = dataset[i:(i+lookback), :]\n",
    "        dataX.append(a)\n",
    "        dataY.append(dataset[i+lookback,3])\n",
    "    return np.array(dataX) , np.array(dataY)    "
   ]
  },
  {
   "cell_type": "code",
   "execution_count": 36,
   "metadata": {},
   "outputs": [],
   "source": [
    "look_back = 30\n",
    "X_train , Y_train = create_dataset(train_data, look_back)\n",
    "X_test , Y_test = create_dataset(test_data, look_back)"
   ]
  },
  {
   "cell_type": "code",
   "execution_count": 37,
   "metadata": {},
   "outputs": [],
   "source": [
    "\n",
    "def create_model():\n",
    "    model = Sequential()\n",
    "    model.add(LSTM(units=50, return_sequences=True, input_shape=(X_train.shape[1], X_train.shape[2])))\n",
    "    model.add(LSTM(units=50))\n",
    "    model.add(Dense(1))\n",
    "    model.compile(optimizer='adam', loss='mean_squared_error')\n",
    "    return model"
   ]
  },
  {
   "cell_type": "code",
   "execution_count": 38,
   "metadata": {},
   "outputs": [],
   "source": [
    "X_train = np.reshape(X_train, (X_train.shape[0], X_train.shape[1], X_train.shape[2]))\n",
    "X_test = np.reshape(X_test, (X_test.shape[0], X_test.shape[1], X_test.shape[2]))"
   ]
  },
  {
   "cell_type": "code",
   "execution_count": 39,
   "metadata": {},
   "outputs": [
    {
     "name": "stdout",
     "output_type": "stream",
     "text": [
      "Epoch 1/32\n"
     ]
    },
    {
     "name": "stderr",
     "output_type": "stream",
     "text": [
      "c:\\Users\\number_one\\Desktop\\prog\\.venv\\Lib\\site-packages\\keras\\src\\layers\\rnn\\rnn.py:204: UserWarning: Do not pass an `input_shape`/`input_dim` argument to a layer. When using Sequential models, prefer using an `Input(shape)` object as the first layer in the model instead.\n",
      "  super().__init__(**kwargs)\n"
     ]
    },
    {
     "name": "stdout",
     "output_type": "stream",
     "text": [
      "\u001b[1m24/24\u001b[0m \u001b[32m━━━━━━━━━━━━━━━━━━━━\u001b[0m\u001b[37m\u001b[0m \u001b[1m3s\u001b[0m 20ms/step - loss: 0.0316\n",
      "Epoch 2/32\n",
      "\u001b[1m24/24\u001b[0m \u001b[32m━━━━━━━━━━━━━━━━━━━━\u001b[0m\u001b[37m\u001b[0m \u001b[1m0s\u001b[0m 18ms/step - loss: 0.0012\n",
      "Epoch 3/32\n",
      "\u001b[1m24/24\u001b[0m \u001b[32m━━━━━━━━━━━━━━━━━━━━\u001b[0m\u001b[37m\u001b[0m \u001b[1m0s\u001b[0m 17ms/step - loss: 7.9574e-04\n",
      "Epoch 4/32\n",
      "\u001b[1m24/24\u001b[0m \u001b[32m━━━━━━━━━━━━━━━━━━━━\u001b[0m\u001b[37m\u001b[0m \u001b[1m0s\u001b[0m 18ms/step - loss: 7.9171e-04\n",
      "Epoch 5/32\n",
      "\u001b[1m24/24\u001b[0m \u001b[32m━━━━━━━━━━━━━━━━━━━━\u001b[0m\u001b[37m\u001b[0m \u001b[1m0s\u001b[0m 17ms/step - loss: 6.5402e-04\n",
      "Epoch 6/32\n",
      "\u001b[1m24/24\u001b[0m \u001b[32m━━━━━━━━━━━━━━━━━━━━\u001b[0m\u001b[37m\u001b[0m \u001b[1m0s\u001b[0m 18ms/step - loss: 6.5722e-04\n",
      "Epoch 7/32\n",
      "\u001b[1m24/24\u001b[0m \u001b[32m━━━━━━━━━━━━━━━━━━━━\u001b[0m\u001b[37m\u001b[0m \u001b[1m0s\u001b[0m 18ms/step - loss: 5.9972e-04\n",
      "Epoch 8/32\n",
      "\u001b[1m24/24\u001b[0m \u001b[32m━━━━━━━━━━━━━━━━━━━━\u001b[0m\u001b[37m\u001b[0m \u001b[1m0s\u001b[0m 18ms/step - loss: 5.6407e-04\n",
      "Epoch 9/32\n",
      "\u001b[1m24/24\u001b[0m \u001b[32m━━━━━━━━━━━━━━━━━━━━\u001b[0m\u001b[37m\u001b[0m \u001b[1m0s\u001b[0m 18ms/step - loss: 5.9101e-04\n",
      "Epoch 10/32\n",
      "\u001b[1m24/24\u001b[0m \u001b[32m━━━━━━━━━━━━━━━━━━━━\u001b[0m\u001b[37m\u001b[0m \u001b[1m0s\u001b[0m 18ms/step - loss: 5.1170e-04\n",
      "Epoch 11/32\n",
      "\u001b[1m24/24\u001b[0m \u001b[32m━━━━━━━━━━━━━━━━━━━━\u001b[0m\u001b[37m\u001b[0m \u001b[1m0s\u001b[0m 18ms/step - loss: 5.1411e-04\n",
      "Epoch 12/32\n",
      "\u001b[1m24/24\u001b[0m \u001b[32m━━━━━━━━━━━━━━━━━━━━\u001b[0m\u001b[37m\u001b[0m \u001b[1m0s\u001b[0m 19ms/step - loss: 4.5769e-04\n",
      "Epoch 13/32\n",
      "\u001b[1m24/24\u001b[0m \u001b[32m━━━━━━━━━━━━━━━━━━━━\u001b[0m\u001b[37m\u001b[0m \u001b[1m0s\u001b[0m 18ms/step - loss: 4.2743e-04\n",
      "Epoch 14/32\n",
      "\u001b[1m24/24\u001b[0m \u001b[32m━━━━━━━━━━━━━━━━━━━━\u001b[0m\u001b[37m\u001b[0m \u001b[1m0s\u001b[0m 19ms/step - loss: 4.0410e-04\n",
      "Epoch 15/32\n",
      "\u001b[1m24/24\u001b[0m \u001b[32m━━━━━━━━━━━━━━━━━━━━\u001b[0m\u001b[37m\u001b[0m \u001b[1m0s\u001b[0m 19ms/step - loss: 4.0646e-04\n",
      "Epoch 16/32\n",
      "\u001b[1m24/24\u001b[0m \u001b[32m━━━━━━━━━━━━━━━━━━━━\u001b[0m\u001b[37m\u001b[0m \u001b[1m0s\u001b[0m 18ms/step - loss: 3.7506e-04\n",
      "Epoch 17/32\n",
      "\u001b[1m24/24\u001b[0m \u001b[32m━━━━━━━━━━━━━━━━━━━━\u001b[0m\u001b[37m\u001b[0m \u001b[1m0s\u001b[0m 17ms/step - loss: 4.4319e-04\n",
      "Epoch 18/32\n",
      "\u001b[1m24/24\u001b[0m \u001b[32m━━━━━━━━━━━━━━━━━━━━\u001b[0m\u001b[37m\u001b[0m \u001b[1m0s\u001b[0m 18ms/step - loss: 3.6204e-04\n",
      "Epoch 19/32\n",
      "\u001b[1m24/24\u001b[0m \u001b[32m━━━━━━━━━━━━━━━━━━━━\u001b[0m\u001b[37m\u001b[0m \u001b[1m0s\u001b[0m 18ms/step - loss: 3.8067e-04\n",
      "Epoch 20/32\n",
      "\u001b[1m24/24\u001b[0m \u001b[32m━━━━━━━━━━━━━━━━━━━━\u001b[0m\u001b[37m\u001b[0m \u001b[1m0s\u001b[0m 19ms/step - loss: 3.6302e-04\n",
      "Epoch 21/32\n",
      "\u001b[1m24/24\u001b[0m \u001b[32m━━━━━━━━━━━━━━━━━━━━\u001b[0m\u001b[37m\u001b[0m \u001b[1m0s\u001b[0m 19ms/step - loss: 3.2719e-04\n",
      "Epoch 22/32\n",
      "\u001b[1m24/24\u001b[0m \u001b[32m━━━━━━━━━━━━━━━━━━━━\u001b[0m\u001b[37m\u001b[0m \u001b[1m0s\u001b[0m 18ms/step - loss: 3.7699e-04\n",
      "Epoch 23/32\n",
      "\u001b[1m24/24\u001b[0m \u001b[32m━━━━━━━━━━━━━━━━━━━━\u001b[0m\u001b[37m\u001b[0m \u001b[1m0s\u001b[0m 17ms/step - loss: 3.5232e-04\n",
      "Epoch 24/32\n",
      "\u001b[1m24/24\u001b[0m \u001b[32m━━━━━━━━━━━━━━━━━━━━\u001b[0m\u001b[37m\u001b[0m \u001b[1m0s\u001b[0m 18ms/step - loss: 3.2888e-04\n",
      "Epoch 25/32\n",
      "\u001b[1m24/24\u001b[0m \u001b[32m━━━━━━━━━━━━━━━━━━━━\u001b[0m\u001b[37m\u001b[0m \u001b[1m0s\u001b[0m 18ms/step - loss: 3.3265e-04\n",
      "Epoch 26/32\n",
      "\u001b[1m24/24\u001b[0m \u001b[32m━━━━━━━━━━━━━━━━━━━━\u001b[0m\u001b[37m\u001b[0m \u001b[1m0s\u001b[0m 17ms/step - loss: 3.1006e-04\n",
      "Epoch 27/32\n",
      "\u001b[1m24/24\u001b[0m \u001b[32m━━━━━━━━━━━━━━━━━━━━\u001b[0m\u001b[37m\u001b[0m \u001b[1m0s\u001b[0m 17ms/step - loss: 3.3837e-04\n",
      "Epoch 28/32\n",
      "\u001b[1m24/24\u001b[0m \u001b[32m━━━━━━━━━━━━━━━━━━━━\u001b[0m\u001b[37m\u001b[0m \u001b[1m0s\u001b[0m 20ms/step - loss: 3.0573e-04\n",
      "Epoch 29/32\n",
      "\u001b[1m24/24\u001b[0m \u001b[32m━━━━━━━━━━━━━━━━━━━━\u001b[0m\u001b[37m\u001b[0m \u001b[1m0s\u001b[0m 20ms/step - loss: 3.1018e-04\n",
      "Epoch 30/32\n",
      "\u001b[1m24/24\u001b[0m \u001b[32m━━━━━━━━━━━━━━━━━━━━\u001b[0m\u001b[37m\u001b[0m \u001b[1m0s\u001b[0m 18ms/step - loss: 2.9274e-04\n",
      "Epoch 31/32\n",
      "\u001b[1m24/24\u001b[0m \u001b[32m━━━━━━━━━━━━━━━━━━━━\u001b[0m\u001b[37m\u001b[0m \u001b[1m0s\u001b[0m 18ms/step - loss: 2.7126e-04\n",
      "Epoch 32/32\n",
      "\u001b[1m24/24\u001b[0m \u001b[32m━━━━━━━━━━━━━━━━━━━━\u001b[0m\u001b[37m\u001b[0m \u001b[1m0s\u001b[0m 18ms/step - loss: 3.1200e-04\n"
     ]
    },
    {
     "data": {
      "text/plain": [
       "<keras.src.callbacks.history.History at 0x15f9d7d7e00>"
      ]
     },
     "execution_count": 39,
     "metadata": {},
     "output_type": "execute_result"
    }
   ],
   "source": [
    "model = create_model()\n",
    "model.fit(X_train, Y_train, batch_size=50, epochs=32)"
   ]
  },
  {
   "cell_type": "code",
   "execution_count": 40,
   "metadata": {},
   "outputs": [
    {
     "name": "stdout",
     "output_type": "stream",
     "text": [
      "\u001b[1m25/25\u001b[0m \u001b[32m━━━━━━━━━━━━━━━━━━━━\u001b[0m\u001b[37m\u001b[0m \u001b[1m1s\u001b[0m 19ms/step\n"
     ]
    }
   ],
   "source": [
    "predictions = model.predict(X_test)\n"
   ]
  },
  {
   "cell_type": "code",
   "execution_count": 41,
   "metadata": {},
   "outputs": [],
   "source": [
    "predictions = scaler.inverse_transform(np.concatenate((np.zeros((predictions.shape[0], 3)), predictions), axis=1))[:, 3]\n",
    "Y_test = scaler.inverse_transform(np.concatenate((np.zeros((Y_test.shape[0], 3)), Y_test.reshape(-1, 1)), axis=1))[:, 3]"
   ]
  },
  {
   "cell_type": "code",
   "execution_count": 45,
   "metadata": {},
   "outputs": [
    {
     "data": {
      "image/png": "[encoded data removed]",
      "text/plain": [
       "<Figure size 640x480 with 1 Axes>"
      ]
     },
     "metadata": {},
     "output_type": "display_data"
    }
   ],
   "source": [
    "\n",
    "plt.plot(predictions, label = \"Predictions\")\n",
    "plt.plot(Y_test, label=\"Actual\")\n",
    "plt.legend()\n",
    "plt.show()"
   ]
  },
  {
   "cell_type": "code",
   "execution_count": 43,
   "metadata": {},
   "outputs": [
    {
     "name": "stdout",
     "output_type": "stream",
     "text": [
      "Root Mean Squared Error (RMSE): 5.395669014585455\n",
      "Mean Absolute Error (MAE): 3.930932976566314\n",
      "R-squared (R²): 0.9930842183995046\n",
      "Mean Squared Error (MSE): 29.113244114957574\n",
      "Mean Absolute Percentage Error (MAPE): 0.0015301951795640028\n",
      "Explained Variance Score: 0.993139751679821\n"
     ]
    }
   ],
   "source": [
    "\n",
    "rmse = np.sqrt(mean_squared_error(Y_test, predictions))\n",
    "mae = mean_absolute_error(Y_test, predictions)\n",
    "r2 = r2_score(Y_test, predictions)\n",
    "mse = mean_squared_error(Y_test, predictions)\n",
    "mape = mean_absolute_percentage_error(Y_test, predictions)\n",
    "evs = explained_variance_score(Y_test, predictions)\n",
    "\n",
    "\n",
    "print(\"Root Mean Squared Error (RMSE):\", rmse)\n",
    "print(\"Mean Absolute Error (MAE):\", mae)\n",
    "print(\"R-squared (R²):\", r2)\n",
    "print(\"Mean Squared Error (MSE):\", mse)\n",
    "print(\"Mean Absolute Percentage Error (MAPE):\", mape)\n",
    "print(\"Explained Variance Score:\", evs)"
   ]
  },
  {
   "cell_type": "code",
   "execution_count": 44,
   "metadata": {},
   "outputs": [
    {
     "name": "stdout",
     "output_type": "stream",
     "text": [
      "\u001b[1m1/1\u001b[0m \u001b[32m━━━━━━━━━━━━━━━━━━━━\u001b[0m\u001b[37m\u001b[0m \u001b[1m0s\u001b[0m 54ms/step\n",
      "Predicted next close price (Candle 2001): 2645.9574629104136\n"
     ]
    }
   ],
   "source": [
    "\n",
    "last_look_back_data = scaled_data[-look_back:]\n",
    "last_look_back_data = np.reshape(last_look_back_data, (1, look_back, last_look_back_data.shape[1]))\n",
    "predicted_next_candle = model.predict(last_look_back_data)\n",
    "predicted_next_candle_rescaled = scaler.inverse_transform(np.concatenate((np.zeros((1, 3)), predicted_next_candle), axis=1))[:, 3]\n",
    "print(\"Predicted next close price (Candle 2001):\", predicted_next_candle_rescaled[0])"
   ]
  }
 ],
 "metadata": {
  "kernelspec": {
   "display_name": ".venv",
   "language": "python",
   "name": "python3"
  },
  "language_info": {
   "codemirror_mode": {
    "name": "ipython",
    "version": 3
   },
   "file_extension": ".py",
   "mimetype": "text/x-python",
   "name": "python",
   "nbconvert_exporter": "python",
   "pygments_lexer": "ipython3",
   "version": "3.12.5"
  }
 },
 "nbformat": 4,
 "nbformat_minor": 2
}
